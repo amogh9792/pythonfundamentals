{
 "cells": [
  {
   "cell_type": "markdown",
   "id": "c4f621b9",
   "metadata": {},
   "source": [
    "# 1. Write a function to find the lenth of a string without using len function"
   ]
  },
  {
   "cell_type": "code",
   "execution_count": 14,
   "id": "52b2e3f9",
   "metadata": {},
   "outputs": [],
   "source": [
    "def findlen():\n",
    "    \"\"\"\n",
    "    Finds the length of a string\n",
    "    \"\"\"\n",
    "    string = input(\"Enter a string :\")\n",
    "    \n",
    "    c = 0\n",
    "    \n",
    "    for i in string:\n",
    "        \n",
    "        c += 1\n",
    "        \n",
    "    return c"
   ]
  },
  {
   "cell_type": "code",
   "execution_count": 15,
   "id": "8bf12c16",
   "metadata": {},
   "outputs": [
    {
     "name": "stdout",
     "output_type": "stream",
     "text": [
      "Enter a string :ajsjssss\n"
     ]
    },
    {
     "data": {
      "text/plain": [
       "8"
      ]
     },
     "execution_count": 15,
     "metadata": {},
     "output_type": "execute_result"
    }
   ],
   "source": [
    "findlen()"
   ]
  },
  {
   "cell_type": "markdown",
   "id": "9706ca35",
   "metadata": {},
   "source": [
    "# 2. Write a function which will be able to print an index of list element without using index function"
   ]
  },
  {
   "cell_type": "code",
   "execution_count": null,
   "id": "4596f469",
   "metadata": {},
   "outputs": [],
   "source": [
    "def find_index():\n",
    "    \n",
    "    l = [10,20,30,50,60]\n",
    "    \n",
    "    \"\"\"\n",
    "    This function is used to print index of list element\n",
    "    It takes user input as the element of the list and prints the index of that element\n",
    "    \"\"\"\n",
    "    user = int(input(\"Enter the element from the list :\"))\n",
    "    \n",
    "    \n",
    "    for i in range(len(l)):\n",
    "        \n",
    "        if l[i] == user:\n",
    "            \n",
    "            return i"
   ]
  },
  {
   "cell_type": "code",
   "execution_count": null,
   "id": "9a85ff0e",
   "metadata": {},
   "outputs": [],
   "source": [
    "find_index()"
   ]
  },
  {
   "cell_type": "markdown",
   "id": "4f8892e9",
   "metadata": {},
   "source": [
    "# 3. Write a function that calculates the factorial of a given positive integer."
   ]
  },
  {
   "cell_type": "code",
   "execution_count": 34,
   "id": "a23a1b05",
   "metadata": {},
   "outputs": [],
   "source": [
    "def cal_fact():\n",
    "    \n",
    "    number = int(input(\"Enter a number :\"))\n",
    "    \n",
    "    factorial = 1\n",
    "    \"\"\"\n",
    "    This function calculates the factorial of an integer.\n",
    "    \n",
    "    \"\"\"\n",
    "    for i in range(1 , number + 1):\n",
    "        \n",
    "        factorial = factorial * i\n",
    "        \n",
    "\n",
    "    print(\"Factorial of a given number is : \", factorial)\n",
    "        "
   ]
  },
  {
   "cell_type": "code",
   "execution_count": 37,
   "id": "ed93d9fc",
   "metadata": {},
   "outputs": [
    {
     "name": "stdout",
     "output_type": "stream",
     "text": [
      "Enter a number :6\n",
      "Factorial of a given number is :  720\n"
     ]
    }
   ],
   "source": [
    "cal_fact()"
   ]
  },
  {
   "cell_type": "markdown",
   "id": "2a7b8a4b",
   "metadata": {},
   "source": [
    "# 4. Write a program that finds the largest element in a list of numbers."
   ]
  },
  {
   "cell_type": "code",
   "execution_count": 78,
   "id": "1bc504ed",
   "metadata": {},
   "outputs": [],
   "source": [
    "def largest_num(nums: list()):\n",
    "    \n",
    "    \"\"\"\n",
    "    This function is used to find the largest element.\n",
    "    :params: It takes a list as a parameter and prints largest number from that list.\n",
    "    \"\"\"\n",
    "    \n",
    "    if len(nums) == 0:\n",
    "        \n",
    "        return \"List is empty\"\n",
    "    \n",
    "    else:\n",
    "        \n",
    "        largest = max(nums)\n",
    "        \n",
    "        return largest"
   ]
  },
  {
   "cell_type": "code",
   "execution_count": 79,
   "id": "d01cc65b",
   "metadata": {},
   "outputs": [
    {
     "name": "stdout",
     "output_type": "stream",
     "text": [
      "The largest number from the list is : 1200\n"
     ]
    }
   ],
   "source": [
    "nums = [12,23,4,5,6,677,33,900,1200]\n",
    "\n",
    "print(\"The largest number from the list is :\", largest_num(nums))"
   ]
  },
  {
   "cell_type": "markdown",
   "id": "89305ddb",
   "metadata": {},
   "source": [
    "# 5. Create a function that converts temperature from Celsius to Fahrenheit."
   ]
  },
  {
   "cell_type": "code",
   "execution_count": 10,
   "id": "9548000e",
   "metadata": {},
   "outputs": [],
   "source": [
    "def convert_temp():\n",
    "    \n",
    "    \"\"\"\n",
    "    This function converts the temperature from Celsius to Farenheit\n",
    "    We will take user input and then using conversion formula we can convert the celsius format to farenheit\n",
    "    \"\"\"\n",
    "    \n",
    "    c = int(input(\"Enter temperature in Celsius : \"))\n",
    "    \n",
    "    f = c * 1.8 + 32\n",
    "    \n",
    "    print(\"The temperature of given celsius number in fareinheit is : \", f, \"F\")"
   ]
  },
  {
   "cell_type": "code",
   "execution_count": 11,
   "id": "cc1fa909",
   "metadata": {},
   "outputs": [
    {
     "name": "stdout",
     "output_type": "stream",
     "text": [
      "Enter temperature in Celsius : 12\n",
      "The temperature of given celsius number in fareinheit is :  53.6 F\n"
     ]
    }
   ],
   "source": [
    "convert_temp()"
   ]
  },
  {
   "cell_type": "markdown",
   "id": "fa6a41b5",
   "metadata": {},
   "source": [
    "# 6. Write a Python function to reverse a list."
   ]
  },
  {
   "cell_type": "code",
   "execution_count": 24,
   "id": "108bb550",
   "metadata": {},
   "outputs": [],
   "source": [
    "def reverse_list(li: list()):\n",
    "    \n",
    "    \"\"\"\n",
    "    This function reverses a list.\n",
    "    :params: li is a list\n",
    "    \"\"\"\n",
    "    print(\"Reversed version of the given list is :\", li[::-1])"
   ]
  },
  {
   "cell_type": "code",
   "execution_count": 26,
   "id": "04869470",
   "metadata": {},
   "outputs": [
    {
     "name": "stdout",
     "output_type": "stream",
     "text": [
      "Reversed version of the given list is : ['Pune', 223, 'aaditya', 23, 'amogh', 12]\n"
     ]
    }
   ],
   "source": [
    "li = [12,\"amogh\", 23, \"aaditya\", 223, \"Pune\"]\n",
    "\n",
    "reverse_list(li)"
   ]
  },
  {
   "cell_type": "markdown",
   "id": "f0ccefce",
   "metadata": {},
   "source": [
    "# 7. Function to Check if a Number is Even"
   ]
  },
  {
   "cell_type": "code",
   "execution_count": 42,
   "id": "4ea6d28a",
   "metadata": {},
   "outputs": [],
   "source": [
    "def check_even(a):\n",
    "    \n",
    "    \"\"\"\n",
    "    This function will check if given number is even or not\n",
    "    :params: a is a number\n",
    "    \"\"\"\n",
    "    \n",
    "    if a%2 == 0:\n",
    "        \n",
    "        print(\"The entered number is even\")\n",
    "        \n",
    "    else:\n",
    "        \n",
    "        print(\"The entered number is odd\")\n",
    "    "
   ]
  },
  {
   "cell_type": "code",
   "execution_count": 46,
   "id": "7470809d",
   "metadata": {},
   "outputs": [
    {
     "name": "stdout",
     "output_type": "stream",
     "text": [
      "The entered number is even\n"
     ]
    }
   ],
   "source": [
    "a = 2\n",
    "\n",
    "check_even(a)"
   ]
  },
  {
   "cell_type": "markdown",
   "id": "775884d8",
   "metadata": {},
   "source": [
    "# 8. Write a function to check whether a string is palindrome or not."
   ]
  },
  {
   "cell_type": "code",
   "execution_count": 7,
   "id": "8a679763",
   "metadata": {},
   "outputs": [],
   "source": [
    "def palindrome(string: str()):\n",
    "    \n",
    "    \"\"\"\n",
    "    This function checks if a string is palindrome or not.\n",
    "    \"\"\"\n",
    "    \n",
    "    if string == string[::-1]:\n",
    "        \n",
    "        print(\"The string is palindrome\")\n",
    "        \n",
    "    else: \n",
    "        \n",
    "        print(\"Given string is not a palindrome\")"
   ]
  },
  {
   "cell_type": "code",
   "execution_count": 11,
   "id": "7d9ff1dc",
   "metadata": {},
   "outputs": [
    {
     "name": "stdout",
     "output_type": "stream",
     "text": [
      "The string is palindrome\n"
     ]
    }
   ],
   "source": [
    "string = \"mom\"\n",
    "\n",
    "palindrome(string)"
   ]
  },
  {
   "cell_type": "markdown",
   "id": "b5b1bc42",
   "metadata": {},
   "source": [
    "# 9. Write a function to find the cube root of the number"
   ]
  },
  {
   "cell_type": "code",
   "execution_count": 60,
   "id": "54829cd9",
   "metadata": {},
   "outputs": [],
   "source": [
    "def cube(num: int()):\n",
    "    \n",
    "    \"\"\"\n",
    "    This function is used to find the cuberoot of the given number\n",
    "    :params: It takes integer num as a parameter\n",
    "    \"\"\"\n",
    "    \n",
    "    a = num**(1/3)\n",
    "    \n",
    "    print(a)"
   ]
  },
  {
   "cell_type": "code",
   "execution_count": 61,
   "id": "ab535ea0",
   "metadata": {},
   "outputs": [
    {
     "name": "stdout",
     "output_type": "stream",
     "text": [
      "3.0\n"
     ]
    }
   ],
   "source": [
    "cube(27)"
   ]
  },
  {
   "cell_type": "markdown",
   "id": "dd074256",
   "metadata": {},
   "source": [
    "# 10. Write a program that calculates the average of numbers in a list"
   ]
  },
  {
   "cell_type": "code",
   "execution_count": 64,
   "id": "78341379",
   "metadata": {},
   "outputs": [],
   "source": [
    "def avg(li: list()):\n",
    "    \"\"\"\n",
    "    This function calculates the average of numbers in a list.\n",
    "    :params: it takes a list as a parameter.\n",
    "    \"\"\"\n",
    "    if len(li) == 0:\n",
    "        \n",
    "        return 0\n",
    "    \n",
    "    sumofnumbers = sum(li)\n",
    "\n",
    "    average = sumofnumbers//len(li)\n",
    "    \n",
    "    return average"
   ]
  },
  {
   "cell_type": "code",
   "execution_count": 67,
   "id": "2e0aefec",
   "metadata": {},
   "outputs": [
    {
     "data": {
      "text/plain": [
       "14"
      ]
     },
     "execution_count": 67,
     "metadata": {},
     "output_type": "execute_result"
    }
   ],
   "source": [
    "li = [2,3,45,6]\n",
    "\n",
    "avg(li)"
   ]
  },
  {
   "cell_type": "markdown",
   "id": "5a66ed40",
   "metadata": {},
   "source": [
    "# 11.Implement a function that checks if a given number is prime"
   ]
  },
  {
   "cell_type": "code",
   "execution_count": 13,
   "id": "bc3e77f6",
   "metadata": {},
   "outputs": [],
   "source": [
    "def prime_check(num: int()):\n",
    "    \n",
    "    \"\"\"\n",
    "    This function checks if the number is prime or not\n",
    "    :params: It take an integer as an input\n",
    "    \"\"\"\n",
    "    if num == 1:\n",
    "        \n",
    "        print(\"The number is not prime\")\n",
    "    \n",
    "    for i in range(2,num):\n",
    "        \n",
    "        if(num % i) == 0:\n",
    "            \n",
    "            print(\"The number is not a prime\")\n",
    "            \n",
    "            break\n",
    "            \n",
    "        else:\n",
    "            \n",
    "            print(\"The number is a prime\")\n",
    "            \n",
    "            break"
   ]
  },
  {
   "cell_type": "code",
   "execution_count": 17,
   "id": "e2b27a32",
   "metadata": {},
   "outputs": [
    {
     "name": "stdout",
     "output_type": "stream",
     "text": [
      "The number is a prime\n"
     ]
    }
   ],
   "source": [
    "prime_check(7)"
   ]
  },
  {
   "cell_type": "markdown",
   "id": "156f12dd",
   "metadata": {},
   "source": [
    "# 12.Write a program that generates the Fibonacci sequence up to a specified term."
   ]
  },
  {
   "cell_type": "code",
   "execution_count": 138,
   "id": "811c7075",
   "metadata": {},
   "outputs": [],
   "source": [
    "def fibo(num: int()):\n",
    "    \n",
    "    \"\"\"\n",
    "    This function generates the fibonacci sequence up to a specified term.\n",
    "    :params: It takes an integer as a parameter and prints fibonacci series upto that term.\n",
    "    \"\"\"\n",
    "    a = 0 \n",
    "    b = 1\n",
    "    \n",
    "    for i in range(num): \n",
    "        \n",
    "        print(a, end = \" \")\n",
    "        \n",
    "        a, b = b, a + b        "
   ]
  },
  {
   "cell_type": "code",
   "execution_count": 139,
   "id": "9c89d8fa",
   "metadata": {},
   "outputs": [
    {
     "name": "stdout",
     "output_type": "stream",
     "text": [
      "0 1 1 2 3 5 8 13 21 34 55 89 144 233 377 "
     ]
    }
   ],
   "source": [
    "fibo(15)"
   ]
  },
  {
   "cell_type": "markdown",
   "id": "bfd13640",
   "metadata": {},
   "source": [
    "# 13.Create a function that sorts a list of numbers in ascending order"
   ]
  },
  {
   "cell_type": "code",
   "execution_count": 155,
   "id": "b1406e8d",
   "metadata": {},
   "outputs": [],
   "source": [
    "def sort_list(li: list()):\n",
    "    \n",
    "    \"\"\"\n",
    "    This function sorts the list in reverse order.\n",
    "    :params: It takes a list as parameter.\n",
    "    \"\"\"\n",
    "    \n",
    "    li.sort()\n",
    "    \n",
    "    return li"
   ]
  },
  {
   "cell_type": "code",
   "execution_count": 157,
   "id": "0d75e340",
   "metadata": {},
   "outputs": [
    {
     "data": {
      "text/plain": [
       "[30, 202, 495, 607]"
      ]
     },
     "execution_count": 157,
     "metadata": {},
     "output_type": "execute_result"
    }
   ],
   "source": [
    "sort_list([202,30,495,607])"
   ]
  },
  {
   "cell_type": "markdown",
   "id": "96b159b9",
   "metadata": {},
   "source": [
    "# 14.Write a program that calculates the area of a circle given its radius."
   ]
  },
  {
   "cell_type": "code",
   "execution_count": 10,
   "id": "ca13eeb5",
   "metadata": {},
   "outputs": [],
   "source": [
    "def area_of_circle(r: int()):\n",
    "    \"\"\"\n",
    "    This function calculates the area of a circle given its radius\n",
    "    :params: It takes r as an input of radius.\n",
    "    \"\"\"\n",
    "    sq = r*r\n",
    "    \n",
    "    print(3.14*sq)"
   ]
  },
  {
   "cell_type": "code",
   "execution_count": 11,
   "id": "9e24f9ee",
   "metadata": {},
   "outputs": [
    {
     "name": "stdout",
     "output_type": "stream",
     "text": [
      "2826.0\n"
     ]
    }
   ],
   "source": [
    "area_of_circle(30)"
   ]
  },
  {
   "cell_type": "markdown",
   "id": "29be0645",
   "metadata": {},
   "source": [
    "# 15.Implement a function to check if a given year is a leap year or no."
   ]
  },
  {
   "cell_type": "code",
   "execution_count": 24,
   "id": "3ebd4639",
   "metadata": {},
   "outputs": [],
   "source": [
    "def leap_year():\n",
    "    \n",
    "    leap = int(input(\"Enter a year : \"))\n",
    "    \"\"\"\n",
    "    This function checks if a given year is leap or not.\n",
    "    :params: It takes an int leap as a parameter.\n",
    "     \"\"\"\n",
    "    if leap%100 == 0 and leap%400 == 0:\n",
    "        \n",
    "        print(\"The given year is a leap year.\")\n",
    "    \n",
    "    else:\n",
    "        \n",
    "        print(\"The given year is not a leap year.\")"
   ]
  },
  {
   "cell_type": "code",
   "execution_count": 25,
   "id": "01f79aba",
   "metadata": {},
   "outputs": [
    {
     "name": "stdout",
     "output_type": "stream",
     "text": [
      "Enter a year : 2000\n",
      "The given year is a leap year.\n"
     ]
    }
   ],
   "source": [
    "leap_year()"
   ]
  },
  {
   "cell_type": "code",
   "execution_count": null,
   "id": "d543cb7d",
   "metadata": {},
   "outputs": [],
   "source": []
  },
  {
   "cell_type": "code",
   "execution_count": null,
   "id": "b66dcbbd",
   "metadata": {},
   "outputs": [],
   "source": []
  },
  {
   "cell_type": "code",
   "execution_count": null,
   "id": "cfb732f4",
   "metadata": {},
   "outputs": [],
   "source": []
  },
  {
   "cell_type": "code",
   "execution_count": null,
   "id": "dc91f4d6",
   "metadata": {},
   "outputs": [],
   "source": []
  },
  {
   "cell_type": "code",
   "execution_count": null,
   "id": "f738f073",
   "metadata": {},
   "outputs": [],
   "source": []
  },
  {
   "cell_type": "code",
   "execution_count": null,
   "id": "3d8a87ec",
   "metadata": {},
   "outputs": [],
   "source": []
  },
  {
   "cell_type": "code",
   "execution_count": null,
   "id": "c8f34d22",
   "metadata": {},
   "outputs": [],
   "source": []
  },
  {
   "cell_type": "code",
   "execution_count": null,
   "id": "25abe47b",
   "metadata": {},
   "outputs": [],
   "source": []
  },
  {
   "cell_type": "code",
   "execution_count": null,
   "id": "b196e272",
   "metadata": {},
   "outputs": [],
   "source": []
  },
  {
   "cell_type": "code",
   "execution_count": null,
   "id": "0e4c049c",
   "metadata": {},
   "outputs": [],
   "source": []
  },
  {
   "cell_type": "code",
   "execution_count": null,
   "id": "faf4471f",
   "metadata": {},
   "outputs": [],
   "source": []
  },
  {
   "cell_type": "code",
   "execution_count": null,
   "id": "304a3998",
   "metadata": {},
   "outputs": [],
   "source": []
  },
  {
   "cell_type": "code",
   "execution_count": null,
   "id": "5569a5dd",
   "metadata": {},
   "outputs": [],
   "source": []
  },
  {
   "cell_type": "code",
   "execution_count": null,
   "id": "3c7ccda7",
   "metadata": {},
   "outputs": [],
   "source": []
  },
  {
   "cell_type": "code",
   "execution_count": null,
   "id": "56040d38",
   "metadata": {},
   "outputs": [],
   "source": []
  },
  {
   "cell_type": "code",
   "execution_count": null,
   "id": "ddd7ec5e",
   "metadata": {},
   "outputs": [],
   "source": []
  }
 ],
 "metadata": {
  "kernelspec": {
   "display_name": "Python 3 (ipykernel)",
   "language": "python",
   "name": "python3"
  },
  "language_info": {
   "codemirror_mode": {
    "name": "ipython",
    "version": 3
   },
   "file_extension": ".py",
   "mimetype": "text/x-python",
   "name": "python",
   "nbconvert_exporter": "python",
   "pygments_lexer": "ipython3",
   "version": "3.11.5"
  }
 },
 "nbformat": 4,
 "nbformat_minor": 5
}
