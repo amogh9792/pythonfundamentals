{
 "cells": [
  {
   "cell_type": "markdown",
   "id": "9831f07d",
   "metadata": {},
   "source": [
    "# Loops"
   ]
  },
  {
   "cell_type": "code",
   "execution_count": 2,
   "id": "9e4df671",
   "metadata": {},
   "outputs": [],
   "source": [
    "l = [36,25,85,65,45,89,12]"
   ]
  },
  {
   "cell_type": "code",
   "execution_count": 3,
   "id": "3567a1a0",
   "metadata": {},
   "outputs": [
    {
     "data": {
      "text/plain": [
       "[36, 25, 85, 65, 45, 89, 12]"
      ]
     },
     "execution_count": 3,
     "metadata": {},
     "output_type": "execute_result"
    }
   ],
   "source": [
    "l"
   ]
  },
  {
   "cell_type": "markdown",
   "id": "c5e5931c",
   "metadata": {},
   "source": [
    "# For Loop"
   ]
  },
  {
   "cell_type": "code",
   "execution_count": null,
   "id": "c5bd9db9",
   "metadata": {},
   "outputs": [],
   "source": [
    "for <index> in <iterator>:\n",
    "    print(index)\n",
    "    print(index)\n",
    "    print(index)\n",
    "    print(index)\n",
    "    print(index)"
   ]
  },
  {
   "cell_type": "code",
   "execution_count": 6,
   "id": "03433632",
   "metadata": {},
   "outputs": [
    {
     "name": "stdout",
     "output_type": "stream",
     "text": [
      "0\n",
      "1\n",
      "2\n",
      "3\n",
      "4\n"
     ]
    }
   ],
   "source": [
    "for i in range(0,5):       # Prints numbers in range 0 to 5\n",
    "    print(i)"
   ]
  },
  {
   "cell_type": "code",
   "execution_count": 7,
   "id": "37052ab7",
   "metadata": {},
   "outputs": [
    {
     "name": "stdout",
     "output_type": "stream",
     "text": [
      "36\n",
      "25\n",
      "85\n",
      "65\n",
      "45\n",
      "89\n",
      "12\n"
     ]
    }
   ],
   "source": [
    "for i in range(0,7):\n",
    "    print(l[i])"
   ]
  },
  {
   "cell_type": "code",
   "execution_count": 8,
   "id": "9e85f06e",
   "metadata": {},
   "outputs": [
    {
     "name": "stdout",
     "output_type": "stream",
     "text": [
      "36\n",
      "25\n",
      "85\n",
      "65\n",
      "45\n",
      "89\n",
      "12\n"
     ]
    }
   ],
   "source": [
    "for i in range(0, len(l)):    # Improved version of above code\n",
    "    print(l[i])"
   ]
  },
  {
   "cell_type": "markdown",
   "id": "746b0b8d",
   "metadata": {},
   "source": [
    "# Print the pattern"
   ]
  },
  {
   "cell_type": "code",
   "execution_count": 1,
   "id": "cae4eaf9",
   "metadata": {},
   "outputs": [
    {
     "name": "stdout",
     "output_type": "stream",
     "text": [
      "I\n",
      "n\n",
      "d\n",
      "i\n",
      "a\n"
     ]
    }
   ],
   "source": [
    "word = \"India\"\n",
    "\n",
    "for letter in word:\n",
    "    print(letter)"
   ]
  },
  {
   "cell_type": "markdown",
   "id": "4362b8b4",
   "metadata": {},
   "source": [
    "# Multiplication Table"
   ]
  },
  {
   "cell_type": "code",
   "execution_count": 2,
   "id": "f6af5310",
   "metadata": {},
   "outputs": [
    {
     "name": "stdout",
     "output_type": "stream",
     "text": [
      "1005890 x 1 = 1005890\n",
      "1005890 x 2 = 2011780\n",
      "1005890 x 3 = 3017670\n",
      "1005890 x 4 = 4023560\n",
      "1005890 x 5 = 5029450\n",
      "1005890 x 6 = 6035340\n",
      "1005890 x 7 = 7041230\n",
      "1005890 x 8 = 8047120\n",
      "1005890 x 9 = 9053010\n",
      "1005890 x 10 = 10058900\n"
     ]
    }
   ],
   "source": [
    "n = 1005890\n",
    "\n",
    "for i in range(1,11):\n",
    "    print(f\"{n} x {i} = {n*i}\")"
   ]
  },
  {
   "cell_type": "markdown",
   "id": "e96f6c06",
   "metadata": {},
   "source": [
    "# Factorial of number"
   ]
  },
  {
   "cell_type": "code",
   "execution_count": 4,
   "id": "278e7aab",
   "metadata": {},
   "outputs": [
    {
     "name": "stdout",
     "output_type": "stream",
     "text": [
      "3628800\n"
     ]
    }
   ],
   "source": [
    "result = 1\n",
    "n = 10\n",
    "\n",
    "for i in range(1, n+1):\n",
    "    result = result * i \n",
    "print(result)"
   ]
  },
  {
   "cell_type": "markdown",
   "id": "93b3f4f9",
   "metadata": {},
   "source": [
    "# While Loop"
   ]
  },
  {
   "cell_type": "code",
   "execution_count": null,
   "id": "9b5cfd16",
   "metadata": {},
   "outputs": [],
   "source": [
    "while <condition>:\n",
    "    print()"
   ]
  },
  {
   "cell_type": "code",
   "execution_count": 5,
   "id": "e814deaf",
   "metadata": {},
   "outputs": [
    {
     "name": "stdout",
     "output_type": "stream",
     "text": [
      " * \n",
      " * \n",
      " * \n",
      " * \n",
      " * \n"
     ]
    }
   ],
   "source": [
    "n = 5\n",
    "i = 1\n",
    "\n",
    "while i <= n:\n",
    "    print(\" * \" * 1)\n",
    "    \n",
    "    i = i+1"
   ]
  },
  {
   "cell_type": "code",
   "execution_count": 23,
   "id": "b2a6e29d",
   "metadata": {},
   "outputs": [
    {
     "name": "stdout",
     "output_type": "stream",
     "text": [
      " *  *  *  *  * \n",
      " *  *  *  * \n",
      " *  *  * \n",
      " *  * \n",
      " * \n"
     ]
    }
   ],
   "source": [
    "n = 5\n",
    "i = n\n",
    "\n",
    "while i >= 1:\n",
    "    print(\" * \" * i)\n",
    "    \n",
    "    i = i - 1"
   ]
  },
  {
   "cell_type": "markdown",
   "id": "2b6a14fe",
   "metadata": {},
   "source": [
    "# Pattern Print"
   ]
  },
  {
   "cell_type": "code",
   "execution_count": 19,
   "id": "87bde4eb",
   "metadata": {},
   "outputs": [
    {
     "name": "stdout",
     "output_type": "stream",
     "text": [
      "P\n",
      "Y\n",
      "T\n",
      "H\n",
      "O\n",
      "N\n"
     ]
    }
   ],
   "source": [
    "string = \"PYTHON\"\n",
    "index = 0\n",
    "\n",
    "while index < len(string):\n",
    "    print(string[index])\n",
    "    \n",
    "    index += 1"
   ]
  },
  {
   "cell_type": "markdown",
   "id": "f2c6bb64",
   "metadata": {},
   "source": [
    "# Print the number from n to 1"
   ]
  },
  {
   "cell_type": "code",
   "execution_count": null,
   "id": "def4e3ea",
   "metadata": {},
   "outputs": [],
   "source": [
    "n = int(input(\"Enter a number:\"))\n",
    "\n",
    "while n >= 1:\n",
    "    print(n)\n",
    "    \n",
    "    n -= 1"
   ]
  },
  {
   "cell_type": "markdown",
   "id": "def19e02",
   "metadata": {},
   "source": [
    "# Functions"
   ]
  },
  {
   "cell_type": "code",
   "execution_count": null,
   "id": "53e8fcc7",
   "metadata": {},
   "outputs": [],
   "source": [
    "def func(): # define a function using def keyword"
   ]
  },
  {
   "cell_type": "code",
   "execution_count": 2,
   "id": "ef289af8",
   "metadata": {},
   "outputs": [],
   "source": [
    "def greet():\n",
    "    print(\"Hello!\")"
   ]
  },
  {
   "cell_type": "code",
   "execution_count": 3,
   "id": "d58cd189",
   "metadata": {},
   "outputs": [
    {
     "name": "stdout",
     "output_type": "stream",
     "text": [
      "Hello!\n"
     ]
    }
   ],
   "source": [
    "greet()"
   ]
  },
  {
   "cell_type": "code",
   "execution_count": 4,
   "id": "9484eaa9",
   "metadata": {},
   "outputs": [
    {
     "name": "stdout",
     "output_type": "stream",
     "text": [
      "Hello!\n"
     ]
    }
   ],
   "source": [
    "result = greet()"
   ]
  },
  {
   "cell_type": "code",
   "execution_count": 5,
   "id": "3c533277",
   "metadata": {},
   "outputs": [
    {
     "name": "stdout",
     "output_type": "stream",
     "text": [
      "None\n"
     ]
    }
   ],
   "source": [
    "print(result)      # You have to return something"
   ]
  },
  {
   "cell_type": "code",
   "execution_count": 6,
   "id": "d1068fab",
   "metadata": {},
   "outputs": [],
   "source": [
    "def test1():\n",
    "    sum = 1 + 5\n",
    "    \n",
    "    return sum"
   ]
  },
  {
   "cell_type": "code",
   "execution_count": 8,
   "id": "9c0d12ef",
   "metadata": {},
   "outputs": [
    {
     "data": {
      "text/plain": [
       "6"
      ]
     },
     "execution_count": 8,
     "metadata": {},
     "output_type": "execute_result"
    }
   ],
   "source": [
    "test1()"
   ]
  },
  {
   "cell_type": "code",
   "execution_count": 9,
   "id": "2e2651ad",
   "metadata": {},
   "outputs": [],
   "source": [
    "result = test1()"
   ]
  },
  {
   "cell_type": "code",
   "execution_count": 10,
   "id": "9c147405",
   "metadata": {},
   "outputs": [
    {
     "name": "stdout",
     "output_type": "stream",
     "text": [
      "6\n"
     ]
    }
   ],
   "source": [
    "print(result)"
   ]
  },
  {
   "cell_type": "code",
   "execution_count": 11,
   "id": "6027cb57",
   "metadata": {},
   "outputs": [
    {
     "data": {
      "text/plain": [
       "int"
      ]
     },
     "execution_count": 11,
     "metadata": {},
     "output_type": "execute_result"
    }
   ],
   "source": [
    "type(result)"
   ]
  },
  {
   "cell_type": "code",
   "execution_count": 12,
   "id": "9b3839e2",
   "metadata": {},
   "outputs": [],
   "source": [
    "def test3():\n",
    "    \n",
    "    li = [1,2,3]           # Creating a list in a function\n",
    "    \n",
    "    return li"
   ]
  },
  {
   "cell_type": "code",
   "execution_count": 13,
   "id": "0e594606",
   "metadata": {},
   "outputs": [],
   "source": [
    "result = test3()"
   ]
  },
  {
   "cell_type": "code",
   "execution_count": 14,
   "id": "78bfbbfc",
   "metadata": {},
   "outputs": [
    {
     "name": "stdout",
     "output_type": "stream",
     "text": [
      "[1, 2, 3]\n"
     ]
    }
   ],
   "source": [
    "print(result)"
   ]
  },
  {
   "cell_type": "code",
   "execution_count": 16,
   "id": "b8a41eab",
   "metadata": {},
   "outputs": [],
   "source": [
    "def test5():\n",
    "    name = \"PRAVIN\"\n",
    "    \n",
    "    return name"
   ]
  },
  {
   "cell_type": "code",
   "execution_count": 17,
   "id": "8b37f3a1",
   "metadata": {},
   "outputs": [
    {
     "data": {
      "text/plain": [
       "'PRAVIN'"
      ]
     },
     "execution_count": 17,
     "metadata": {},
     "output_type": "execute_result"
    }
   ],
   "source": [
    "test5()"
   ]
  },
  {
   "cell_type": "code",
   "execution_count": 18,
   "id": "79ea7015",
   "metadata": {},
   "outputs": [],
   "source": [
    "name = test5()"
   ]
  },
  {
   "cell_type": "code",
   "execution_count": 19,
   "id": "a9e635f7",
   "metadata": {},
   "outputs": [
    {
     "data": {
      "text/plain": [
       "'PRAVIN'"
      ]
     },
     "execution_count": 19,
     "metadata": {},
     "output_type": "execute_result"
    }
   ],
   "source": [
    "name"
   ]
  },
  {
   "cell_type": "code",
   "execution_count": 21,
   "id": "93b5d0e5",
   "metadata": {},
   "outputs": [
    {
     "data": {
      "text/plain": [
       "'PRAVIN DOHALE'"
      ]
     },
     "execution_count": 21,
     "metadata": {},
     "output_type": "execute_result"
    }
   ],
   "source": [
    "test5() + \" DOHALE\""
   ]
  },
  {
   "cell_type": "code",
   "execution_count": 28,
   "id": "c9bf6860",
   "metadata": {},
   "outputs": [],
   "source": [
    "def test6():\n",
    "    \n",
    "    return 36,58,14"
   ]
  },
  {
   "cell_type": "code",
   "execution_count": 29,
   "id": "309de077",
   "metadata": {},
   "outputs": [
    {
     "data": {
      "text/plain": [
       "(36, 58, 14)"
      ]
     },
     "execution_count": 29,
     "metadata": {},
     "output_type": "execute_result"
    }
   ],
   "source": [
    "test6()"
   ]
  },
  {
   "cell_type": "code",
   "execution_count": 30,
   "id": "22e32e25",
   "metadata": {},
   "outputs": [],
   "source": [
    "a, b, c = test6()"
   ]
  },
  {
   "cell_type": "code",
   "execution_count": 31,
   "id": "29d802ed",
   "metadata": {},
   "outputs": [
    {
     "data": {
      "text/plain": [
       "(36, 58, 14)"
      ]
     },
     "execution_count": 31,
     "metadata": {},
     "output_type": "execute_result"
    }
   ],
   "source": [
    "test6()"
   ]
  },
  {
   "cell_type": "code",
   "execution_count": 32,
   "id": "9c9b796a",
   "metadata": {},
   "outputs": [
    {
     "data": {
      "text/plain": [
       "36"
      ]
     },
     "execution_count": 32,
     "metadata": {},
     "output_type": "execute_result"
    }
   ],
   "source": [
    "a\n"
   ]
  },
  {
   "cell_type": "code",
   "execution_count": 33,
   "id": "feed2330",
   "metadata": {},
   "outputs": [
    {
     "data": {
      "text/plain": [
       "58"
      ]
     },
     "execution_count": 33,
     "metadata": {},
     "output_type": "execute_result"
    }
   ],
   "source": [
    "b"
   ]
  },
  {
   "cell_type": "code",
   "execution_count": 34,
   "id": "06e00e3d",
   "metadata": {},
   "outputs": [
    {
     "data": {
      "text/plain": [
       "14"
      ]
     },
     "execution_count": 34,
     "metadata": {},
     "output_type": "execute_result"
    }
   ],
   "source": [
    "c"
   ]
  },
  {
   "cell_type": "code",
   "execution_count": 35,
   "id": "9b37ca6a",
   "metadata": {},
   "outputs": [],
   "source": [
    "def test7():\n",
    "    \n",
    "    result = 50/20*6+8-5\n",
    "    \n",
    "    return result"
   ]
  },
  {
   "cell_type": "code",
   "execution_count": 36,
   "id": "7465ce25",
   "metadata": {},
   "outputs": [
    {
     "data": {
      "text/plain": [
       "18.0"
      ]
     },
     "execution_count": 36,
     "metadata": {},
     "output_type": "execute_result"
    }
   ],
   "source": [
    "test7()"
   ]
  },
  {
   "cell_type": "code",
   "execution_count": 39,
   "id": "e1d9711b",
   "metadata": {},
   "outputs": [],
   "source": [
    "def test8():\n",
    "    l = [1,2,3,4,5,6,7,8,9,10]\n",
    "    \n",
    "    sum = 0\n",
    "    \n",
    "    for i in l:\n",
    "        sum += i\n",
    "    \n",
    "    return sum"
   ]
  },
  {
   "cell_type": "code",
   "execution_count": 40,
   "id": "1e14b9c6",
   "metadata": {},
   "outputs": [
    {
     "data": {
      "text/plain": [
       "55"
      ]
     },
     "execution_count": 40,
     "metadata": {},
     "output_type": "execute_result"
    }
   ],
   "source": [
    "test8()"
   ]
  },
  {
   "cell_type": "code",
   "execution_count": 48,
   "id": "1ae94000",
   "metadata": {},
   "outputs": [],
   "source": [
    "def test9():\n",
    "    \n",
    "    l = [1,2,3,4,5,'INDIA', 'PUNE', 6,7,8,'RANI',9,10]\n",
    "    \n",
    "    sum = 0\n",
    "    \n",
    "    for i in l:\n",
    "        \n",
    "        if type(i) == int:    # if given type is integer only then it will execute the below code\n",
    "            \n",
    "            sum += i\n",
    "    \n",
    "    return sum"
   ]
  },
  {
   "cell_type": "code",
   "execution_count": 49,
   "id": "e6820d46",
   "metadata": {},
   "outputs": [
    {
     "data": {
      "text/plain": [
       "55"
      ]
     },
     "execution_count": 49,
     "metadata": {},
     "output_type": "execute_result"
    }
   ],
   "source": [
    "test9()"
   ]
  },
  {
   "cell_type": "code",
   "execution_count": 50,
   "id": "993600ba",
   "metadata": {},
   "outputs": [],
   "source": [
    "def test10():\n",
    "    \n",
    "    sum = 0\n",
    "    \n",
    "    for i in l:\n",
    "        \n",
    "        if type(i) == int:\n",
    "            \n",
    "            sum += i\n",
    "    \n",
    "    return sum"
   ]
  },
  {
   "cell_type": "code",
   "execution_count": 51,
   "id": "4617fb61",
   "metadata": {},
   "outputs": [],
   "source": [
    "l = [1,2,3,4,5,'a','b','c',6,7,8,'d','e',9,'f',10]   # You can assign values here also and the output will be correct"
   ]
  },
  {
   "cell_type": "code",
   "execution_count": 52,
   "id": "0a184197",
   "metadata": {},
   "outputs": [
    {
     "data": {
      "text/plain": [
       "55"
      ]
     },
     "execution_count": 52,
     "metadata": {},
     "output_type": "execute_result"
    }
   ],
   "source": [
    "test10()"
   ]
  },
  {
   "cell_type": "code",
   "execution_count": 53,
   "id": "ce82f88c",
   "metadata": {},
   "outputs": [],
   "source": [
    "def test11(mylist):\n",
    "    \n",
    "    sum = 0\n",
    "    \n",
    "    for i in mylist:\n",
    "        \n",
    "        if type(i) == int:\n",
    "            \n",
    "            sum += i\n",
    "    \n",
    "    return sum"
   ]
  },
  {
   "cell_type": "code",
   "execution_count": 54,
   "id": "3d8c8ec0",
   "metadata": {},
   "outputs": [],
   "source": [
    "l = [1,2,3,4,'a','b','c',5]"
   ]
  },
  {
   "cell_type": "code",
   "execution_count": 56,
   "id": "e4561deb",
   "metadata": {},
   "outputs": [
    {
     "data": {
      "text/plain": [
       "15"
      ]
     },
     "execution_count": 56,
     "metadata": {},
     "output_type": "execute_result"
    }
   ],
   "source": [
    "test11(mylist=l) # The name mentioned here in the brackets and the name passed in the function should be same that is \"mylist\""
   ]
  },
  {
   "cell_type": "code",
   "execution_count": 57,
   "id": "0d5fa0aa",
   "metadata": {},
   "outputs": [],
   "source": [
    "def two_num_sum(a,b):\n",
    "    \n",
    "    sum = a + b\n",
    "    \n",
    "    return sum"
   ]
  },
  {
   "cell_type": "code",
   "execution_count": 60,
   "id": "952c7d35",
   "metadata": {},
   "outputs": [],
   "source": [
    "a = 2\n",
    "b = 3\n",
    "\n",
    "result = two_num_sum(a,b)"
   ]
  },
  {
   "cell_type": "code",
   "execution_count": 61,
   "id": "0f50a16e",
   "metadata": {},
   "outputs": [
    {
     "data": {
      "text/plain": [
       "5"
      ]
     },
     "execution_count": 61,
     "metadata": {},
     "output_type": "execute_result"
    }
   ],
   "source": [
    "result"
   ]
  },
  {
   "cell_type": "code",
   "execution_count": 64,
   "id": "4590972a",
   "metadata": {},
   "outputs": [
    {
     "data": {
      "text/plain": [
       "15"
      ]
     },
     "execution_count": 64,
     "metadata": {},
     "output_type": "execute_result"
    }
   ],
   "source": [
    "p = 5\n",
    "q = 10\n",
    "\n",
    "two_num_sum(p,q)"
   ]
  },
  {
   "cell_type": "code",
   "execution_count": 65,
   "id": "ae675957",
   "metadata": {},
   "outputs": [
    {
     "data": {
      "text/plain": [
       "15"
      ]
     },
     "execution_count": 65,
     "metadata": {},
     "output_type": "execute_result"
    }
   ],
   "source": [
    "two_num_sum(a=p, b=q)"
   ]
  },
  {
   "cell_type": "code",
   "execution_count": 66,
   "id": "fe65a645",
   "metadata": {},
   "outputs": [
    {
     "data": {
      "text/plain": [
       "8"
      ]
     },
     "execution_count": 66,
     "metadata": {},
     "output_type": "execute_result"
    }
   ],
   "source": [
    "len(l) # Put cursor inside the name of the fuction and type shift + tab to see the docstring"
   ]
  },
  {
   "cell_type": "code",
   "execution_count": 67,
   "id": "8bc928f3",
   "metadata": {},
   "outputs": [
    {
     "data": {
      "text/plain": [
       "[1, 2, 3, 4, 'a', 'b', 'c', 5]"
      ]
     },
     "execution_count": 67,
     "metadata": {},
     "output_type": "execute_result"
    }
   ],
   "source": [
    "l"
   ]
  },
  {
   "cell_type": "code",
   "execution_count": 68,
   "id": "9ecec6c3",
   "metadata": {},
   "outputs": [
    {
     "data": {
      "text/plain": [
       "13"
      ]
     },
     "execution_count": 68,
     "metadata": {},
     "output_type": "execute_result"
    }
   ],
   "source": [
    "two_num_sum(a,b)"
   ]
  },
  {
   "cell_type": "code",
   "execution_count": 77,
   "id": "2f5d21b4",
   "metadata": {},
   "outputs": [],
   "source": [
    "def two_num_sum(a, b):\n",
    "    \n",
    "    # You can add a docstring using below syntax\n",
    "    \n",
    "    \"\"\"\n",
    "    calculates the sum of two numbers \n",
    "    :params: 'a' is first number\n",
    "    :params: 'b' is second number\n",
    "    :return: additon of two numbers\n",
    "    \"\"\"\n",
    "    \n",
    "    sum = a + b\n",
    "    \n",
    "    return sum"
   ]
  },
  {
   "cell_type": "code",
   "execution_count": 79,
   "id": "9c0d0dca",
   "metadata": {},
   "outputs": [
    {
     "data": {
      "text/plain": [
       "13"
      ]
     },
     "execution_count": 79,
     "metadata": {},
     "output_type": "execute_result"
    }
   ],
   "source": [
    "two_num_sum(a, b)"
   ]
  },
  {
   "cell_type": "code",
   "execution_count": 80,
   "id": "bf77a212",
   "metadata": {},
   "outputs": [],
   "source": [
    "def test12(mylist):\n",
    "    \n",
    "    li = []\n",
    "    \n",
    "    for i in mylist:\n",
    "        \n",
    "        if type(i) == str:\n",
    "            \n",
    "            li.append(i)\n",
    "            \n",
    "    return li"
   ]
  },
  {
   "cell_type": "code",
   "execution_count": 82,
   "id": "27cdd468",
   "metadata": {},
   "outputs": [
    {
     "data": {
      "text/plain": [
       "[1, 2, 3, 4, 'a', 'b', 'c', 5]"
      ]
     },
     "execution_count": 82,
     "metadata": {},
     "output_type": "execute_result"
    }
   ],
   "source": [
    "l"
   ]
  },
  {
   "cell_type": "code",
   "execution_count": 84,
   "id": "855a881e",
   "metadata": {},
   "outputs": [
    {
     "data": {
      "text/plain": [
       "['a', 'b', 'c']"
      ]
     },
     "execution_count": 84,
     "metadata": {},
     "output_type": "execute_result"
    }
   ],
   "source": [
    "test12(l)"
   ]
  },
  {
   "cell_type": "code",
   "execution_count": 103,
   "id": "66f0e276",
   "metadata": {},
   "outputs": [],
   "source": [
    "def test13(mylist: list()):\n",
    "    \n",
    "    \"\"\"\n",
    "    This function seperates the integer and str elements form the given list\n",
    "    :params: list()\n",
    "    :params: string list, integer list\n",
    "    \"\"\"\n",
    "    \n",
    "    li_int = []\n",
    "    li_str = []\n",
    "    \n",
    "    for i in mylist:\n",
    "        \n",
    "        if type(i) == str:\n",
    "            \n",
    "            li_str.append(i)\n",
    "            \n",
    "        if type(i) == int:\n",
    "            \n",
    "            li_int.append(i)\n",
    "    \n",
    "    return li_str, li_int"
   ]
  },
  {
   "cell_type": "code",
   "execution_count": 104,
   "id": "b0004431",
   "metadata": {},
   "outputs": [
    {
     "data": {
      "text/plain": [
       "[1, 2, 3, 4, 'a', 'b', 'c', 5]"
      ]
     },
     "execution_count": 104,
     "metadata": {},
     "output_type": "execute_result"
    }
   ],
   "source": [
    "l "
   ]
  },
  {
   "cell_type": "code",
   "execution_count": 105,
   "id": "36267365",
   "metadata": {},
   "outputs": [],
   "source": [
    "list_str, list_int = test13(l)"
   ]
  },
  {
   "cell_type": "code",
   "execution_count": 107,
   "id": "ae644486",
   "metadata": {},
   "outputs": [
    {
     "data": {
      "text/plain": [
       "['a', 'b', 'c']"
      ]
     },
     "execution_count": 107,
     "metadata": {},
     "output_type": "execute_result"
    }
   ],
   "source": [
    "list_str"
   ]
  },
  {
   "cell_type": "code",
   "execution_count": 108,
   "id": "44d46e2b",
   "metadata": {},
   "outputs": [
    {
     "data": {
      "text/plain": [
       "([], [1, 2, 3, 4, 5])"
      ]
     },
     "execution_count": 108,
     "metadata": {},
     "output_type": "execute_result"
    }
   ],
   "source": [
    "test13(list_int)"
   ]
  },
  {
   "cell_type": "code",
   "execution_count": 110,
   "id": "60fe3b1d",
   "metadata": {},
   "outputs": [
    {
     "data": {
      "text/plain": [
       "([1, 2, 3, 4, 5], ['a', 'b', 'c'])"
      ]
     },
     "execution_count": 110,
     "metadata": {},
     "output_type": "execute_result"
    }
   ],
   "source": [
    "list_int, list_str"
   ]
  },
  {
   "cell_type": "code",
   "execution_count": null,
   "id": "e12940ee",
   "metadata": {},
   "outputs": [],
   "source": []
  },
  {
   "cell_type": "code",
   "execution_count": null,
   "id": "99324115",
   "metadata": {},
   "outputs": [],
   "source": []
  },
  {
   "cell_type": "code",
   "execution_count": null,
   "id": "9eb8fe51",
   "metadata": {},
   "outputs": [],
   "source": []
  },
  {
   "cell_type": "code",
   "execution_count": null,
   "id": "427ed59f",
   "metadata": {},
   "outputs": [],
   "source": []
  },
  {
   "cell_type": "code",
   "execution_count": null,
   "id": "d5fced40",
   "metadata": {},
   "outputs": [],
   "source": []
  },
  {
   "cell_type": "code",
   "execution_count": null,
   "id": "a87949da",
   "metadata": {},
   "outputs": [],
   "source": []
  },
  {
   "cell_type": "code",
   "execution_count": null,
   "id": "b8f43327",
   "metadata": {},
   "outputs": [],
   "source": []
  }
 ],
 "metadata": {
  "kernelspec": {
   "display_name": "Python 3 (ipykernel)",
   "language": "python",
   "name": "python3"
  },
  "language_info": {
   "codemirror_mode": {
    "name": "ipython",
    "version": 3
   },
   "file_extension": ".py",
   "mimetype": "text/x-python",
   "name": "python",
   "nbconvert_exporter": "python",
   "pygments_lexer": "ipython3",
   "version": "3.11.5"
  }
 },
 "nbformat": 4,
 "nbformat_minor": 5
}
