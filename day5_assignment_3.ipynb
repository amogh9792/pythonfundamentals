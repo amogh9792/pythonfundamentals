{
 "cells": [
  {
   "cell_type": "markdown",
   "id": "c89c4c9c",
   "metadata": {},
   "source": [
    "### 1.Create a class called Rectangle with a class-level variable unit set to 'cm'.The class should have a constructor that sets the length and width instance variables. Implement a method called calculate_area that calculates and prints the area of the rectangle. Also, provide a method called get_unit that prints the class-level variable unit. Create an instance of the class and test the methods."
   ]
  },
  {
   "cell_type": "code",
   "execution_count": 2,
   "id": "a66b9818",
   "metadata": {},
   "outputs": [
    {
     "name": "stdout",
     "output_type": "stream",
     "text": [
      "The area of the rectangle is 40 cm^2.\n",
      "The unit is cm.\n"
     ]
    }
   ],
   "source": [
    "class Rectangle:\n",
    "    unit = 'cm'  \n",
    "\n",
    "    def __init__(self, length, width):\n",
    "        self.length = length\n",
    "        self.width = width\n",
    "\n",
    "    def calculate_area(self):\n",
    "        area = self.length * self.width\n",
    "        print(f\"The area of the rectangle is {area} {self.unit}^2.\")\n",
    "\n",
    "    def get_unit(cls):\n",
    "        print(f\"The unit is {cls.unit}.\")\n",
    "\n",
    "\n",
    "rectangle_instance = Rectangle(length=5, width=8)\n",
    "\n",
    "rectangle_instance.calculate_area()\n",
    "rectangle_instance.get_unit()"
   ]
  },
  {
   "cell_type": "markdown",
   "id": "704b05a4",
   "metadata": {},
   "source": [
    "### # 2. Develop a class called Student with a class-level variable passing_grade set to 60. The class should have a constructor that sets the name andscore instance variables. Implement a method called is_passing tha prints whether the student has passed or not based on the passin grade. Also, provide a method called get_passing_grade that prints theclass-level variable passing_grade. Create an instance of the class and test the methods."
   ]
  },
  {
   "cell_type": "code",
   "execution_count": 6,
   "id": "fb494045",
   "metadata": {},
   "outputs": [
    {
     "name": "stdout",
     "output_type": "stream",
     "text": [
      "Amogh has passed.\n",
      "The passing grade is 55.\n"
     ]
    }
   ],
   "source": [
    "class Student:\n",
    "    pass_grade = 55\n",
    "\n",
    "    def __init__(self, name, score):\n",
    "        self.name = name\n",
    "        self.score = score\n",
    "\n",
    "    def is_passing(self):\n",
    "        if self.score >= self.pass_grade:\n",
    "            print(f\"{self.name} has passed.\")\n",
    "        else:\n",
    "            print(f\"{self.name} has not passed.\")\n",
    "\n",
    "    def get_passing_grade(cls):\n",
    "        print(f\"The passing grade is {cls.pass_grade}.\")\n",
    "\n",
    "student_instance = Student(name=\"Amogh\", score=75)\n",
    "\n",
    "student_instance.is_passing()\n",
    "student_instance.get_passing_grade()"
   ]
  },
  {
   "cell_type": "markdown",
   "id": "36a6bc2d",
   "metadata": {},
   "source": [
    "### 3.Design a class called Employee with a class-level variable base_salary set to 50000. The class should have a constructor that sets the name andbonus instance variables. Implement a method called calculate_salar that calculates and prints the total salary (base salary + bonus) of th employee. Also, provide a method called get_base_salary that prints th class-level variable base_salary. Create an instance of the class and test the methods."
   ]
  },
  {
   "cell_type": "code",
   "execution_count": 15,
   "id": "8a18f21a",
   "metadata": {},
   "outputs": [
    {
     "name": "stdout",
     "output_type": "stream",
     "text": [
      "Amogh's total salary is Rs.84000.\n",
      "The base salary is Rs.50000.\n"
     ]
    }
   ],
   "source": [
    "class Employee:\n",
    "    base_salary = 50000 \n",
    "\n",
    "    def __init__(self, name, bonus):\n",
    "        self.name = name\n",
    "        self.bonus = bonus\n",
    "\n",
    "    def calculate_salary(self):\n",
    "        total_salary = self.base_salary + self.bonus\n",
    "        print(f\"{self.name}'s total salary is Rs.{total_salary}.\")\n",
    "\n",
    "    def get_base_salary(cls):\n",
    "        print(f\"The base salary is Rs.{cls.base_salary}.\")\n",
    "\n",
    "emp_inst = Employee(name=\"Amogh\", bonus=34000)\n",
    "\n",
    "emp_inst.calculate_salary()\n",
    "emp_inst.get_base_salary()"
   ]
  },
  {
   "cell_type": "markdown",
   "id": "f055fa37",
   "metadata": {},
   "source": [
    "### 4.Create a class named Car with class-level variables fuel_type set to 'Petrol' and mileage set to 15. The class should have a constructor that sets the brand, model, fuel_efficiency, and fuel_level instance variables.Implement a method called calculate_range that calculates and prints the range the car can travel based on its fuel level and efficiency. Also, provide a method called get_fuel_type that prints the class-level variablefuel_type. Create an instance of the class and test the methods."
   ]
  },
  {
   "cell_type": "code",
   "execution_count": 14,
   "id": "47b7a4fb",
   "metadata": {},
   "outputs": [
    {
     "name": "stdout",
     "output_type": "stream",
     "text": [
      "The Tata Harrier can travel approximately 1904 kilometers.\n",
      "The fuel type is Petrol.\n"
     ]
    }
   ],
   "source": [
    "class Car:\n",
    "    fuel_type = 'Petrol' \n",
    "    mileage = 15  \n",
    "\n",
    "    def __init__(self, brand, model, fuel_efficiency, fuel_level):\n",
    "        self.brand = brand\n",
    "        self.model = model\n",
    "        self.fuel_efficiency = fuel_efficiency\n",
    "        self.fuel_level = fuel_level\n",
    "\n",
    "    def cal_range(self):\n",
    "        range_km = self.fuel_efficiency * self.fuel_level\n",
    "        print(f\"The {self.brand} {self.model} can travel approximately {range_km} kilometers.\")\n",
    "\n",
    "    def get_fuel_type(cls):\n",
    "        print(f\"The fuel type is {cls.fuel_type}.\")\n",
    "\n",
    "car_inst = Car(brand=\"Tata\", model=\"Harrier\", fuel_efficiency=56, fuel_level=34)\n",
    "\n",
    "car_inst.cal_range()\n",
    "car_inst.get_fuel_type()"
   ]
  },
  {
   "cell_type": "markdown",
   "id": "f33cc909",
   "metadata": {},
   "source": [
    "### 5.Develop a class named Book with class-level variables category set to 'Fiction' and discount set to 0.1. The class should have a constructor thatsets the title, author, price, and quantity instance variables. Implement a method called calculate_total_cost that calculates and prints the totalcost of purchasing the specified quantity of books after applying the discount. Also, provide a method called get_category that prints the class-level variable category. Create an instance of the class and test the methods."
   ]
  },
  {
   "cell_type": "code",
   "execution_count": 19,
   "id": "2e6a54f2",
   "metadata": {},
   "outputs": [
    {
     "name": "stdout",
     "output_type": "stream",
     "text": [
      "The total cost for 5 copies of 'Mrutyunjay' by Shivaji Sawant is Rs.1485.0.\n",
      "The category is Fiction.\n"
     ]
    }
   ],
   "source": [
    "class Book:\n",
    "    category = 'Fiction'\n",
    "    discount = 0.1  \n",
    "\n",
    "    def __init__(self, title, author, price, quantity):\n",
    "        self.title = title\n",
    "        self.author = author\n",
    "        self.price = price\n",
    "        self.quantity = quantity\n",
    "\n",
    "    def cal_total_cost(self):\n",
    "        total_cost = self.price * self.quantity * (1 - self.discount)\n",
    "        print(f\"The total cost for {self.quantity} copies of '{self.title}' by {self.author} is Rs.{total_cost}.\")\n",
    "\n",
    "    def get_category(cls):\n",
    "        print(f\"The category is {cls.category}.\")\n",
    "\n",
    "book_inst = Book(title=\"Mrutyunjay\", author=\"Shivaji Sawant\", price=330, quantity=5)\n",
    "\n",
    "book_inst.cal_total_cost()\n",
    "book_inst.get_category()"
   ]
  },
  {
   "cell_type": "markdown",
   "id": "ebe4fff4",
   "metadata": {},
   "source": [
    "### 6.Design a class named BankAccount with class-level variable interest_rateset to 0.02. The class should have a constructor that sets the account_holder, balance, and account_type instance variables. Implement a method called calculate_interest that calculates and print the interest earned based on the balance and interest rate. Also, providea method called get_interest_rate that prints the class-level variable interest_rate. Create an instance of the class and test the methods."
   ]
  },
  {
   "cell_type": "code",
   "execution_count": 22,
   "id": "47034543",
   "metadata": {},
   "outputs": [
    {
     "name": "stdout",
     "output_type": "stream",
     "text": [
      "The interest earned for Amogh Pathak's Savings account is Rs.2000.0.\n",
      "The interest rate is 0.02.\n"
     ]
    }
   ],
   "source": [
    "class BankAccount:\n",
    "    interest_rate = 0.02  \n",
    "\n",
    "    def __init__(self, account_holder, balance, account_type):\n",
    "        self.account_holder = account_holder\n",
    "        self.balance = balance\n",
    "        self.account_type = account_type\n",
    "\n",
    "    def calculate_interest(self):\n",
    "        interest_earned = self.balance * self.interest_rate\n",
    "        print(f\"The interest earned for {self.account_holder}'s {self.account_type} account is Rs.{interest_earned}.\")\n",
    "\n",
    "    def get_interest_rate(cls):\n",
    "        print(f\"The interest rate is {cls.interest_rate}.\")\n",
    "\n",
    "acc_inst = BankAccount(account_holder=\"Amogh Pathak\", balance=100000, account_type=\"Savings\")\n",
    "\n",
    "acc_inst.calculate_interest()\n",
    "acc_inst.get_interest_rate()"
   ]
  },
  {
   "cell_type": "markdown",
   "id": "c2145d88",
   "metadata": {},
   "source": [
    "### 7.Create a class called Product with class-level variables category set to'Electronics' and discount set to 0.15. The class should have a constructor that sets the name, price, and quantity instance variables. Implement a method called calculate_total_cost that calculates and prints the total cost of purchasing the specified quantity of productsafter applying the discount. Also, provide a method called get_category that prints the class-level variable category. Create an instance and test the code."
   ]
  },
  {
   "cell_type": "code",
   "execution_count": 24,
   "id": "ad0cb20c",
   "metadata": {},
   "outputs": [
    {
     "name": "stdout",
     "output_type": "stream",
     "text": [
      "The total cost for 6 units of 'Smartphone' is Rs.7650.0.\n",
      "The category is Electronics.\n"
     ]
    }
   ],
   "source": [
    "class Product:\n",
    "    category = 'Electronics' \n",
    "    discount = 0.15 \n",
    "\n",
    "    def __init__(self, name, price, quantity):\n",
    "        self.name = name\n",
    "        self.price = price\n",
    "        self.quantity = quantity\n",
    "\n",
    "    def calculate_total_cost(self):\n",
    "        total_cost = self.price * self.quantity * (1 - self.discount)\n",
    "        print(f\"The total cost for {self.quantity} units of '{self.name}' is Rs.{total_cost}.\")\n",
    "\n",
    "    def get_category(cls):\n",
    "        print(f\"The category is {cls.category}.\")\n",
    "\n",
    "product_inst = Product(name=\"Smartphone\", price=1500, quantity=6)\n",
    "\n",
    "product_inst.calculate_total_cost()\n",
    "product_inst.get_category()"
   ]
  },
  {
   "cell_type": "markdown",
   "id": "4c869dfd",
   "metadata": {},
   "source": [
    "### 8.Create a class named BankTransaction with a class-level variable transaction_fee set to 2. The class should have a constructor that sets the account_holder, initial_balance, and transaction_type instance variables. Implement a method called process_transaction that calculates and prints the balance after deducting the transaction fee if the transaction type is 'withdraw'. Also, provide a method called get_transaction_fee that prints the class-level variable transaction_fee. Create an instance of the class and test the methods."
   ]
  },
  {
   "cell_type": "code",
   "execution_count": 25,
   "id": "1a032abd",
   "metadata": {},
   "outputs": [
    {
     "name": "stdout",
     "output_type": "stream",
     "text": [
      "After deducting the transaction fee, Amogh Pathak's balance is Rs.3298.\n",
      "The transaction fee is Rs.2.\n"
     ]
    }
   ],
   "source": [
    "class BankTransaction:\n",
    "    transaction_fee = 2 \n",
    "\n",
    "    def __init__(self, account_holder, initial_balance, transaction_type):\n",
    "        self.account_holder = account_holder\n",
    "        self.initial_balance = initial_balance\n",
    "        self.transaction_type = transaction_type\n",
    "\n",
    "    def process_transaction(self):\n",
    "        if self.transaction_type.lower() == 'withdraw':\n",
    "            final_balance = self.initial_balance - self.transaction_fee\n",
    "            print(f\"After deducting the transaction fee, {self.account_holder}'s balance is Rs.{final_balance}.\")\n",
    "        else:\n",
    "            print(f\"No transaction fee applied. {self.account_holder}'s balance remains Rs.{self.initial_balance}.\")\n",
    "\n",
    "    def get_transaction_fee(cls):\n",
    "        print(f\"The transaction fee is Rs.{cls.transaction_fee}.\")\n",
    "\n",
    "transaction_instance = BankTransaction(account_holder=\"Amogh Pathak\", initial_balance=3300, transaction_type=\"Withdraw\")\n",
    "\n",
    "transaction_instance.process_transaction()\n",
    "transaction_instance.get_transaction_fee()"
   ]
  },
  {
   "cell_type": "markdown",
   "id": "28759778",
   "metadata": {},
   "source": [
    "### 9.Develop a class named InventoryItem with class-level variables category set to 'Electronics' and tax_rate set to 0.1. The class should have a constructor that sets the item_name, price_per_unit, quantity, and discount_rate instance variables. Implement a method called calculate_total_cost that calculates and prints the total cost of purchasing the specified quantity of items after applying the discount and tax. Also, provide a method called get_category that prints the class- level variable category. Create an instance of the class and test the methods."
   ]
  },
  {
   "cell_type": "code",
   "execution_count": 27,
   "id": "daa68a02",
   "metadata": {},
   "outputs": [
    {
     "name": "stdout",
     "output_type": "stream",
     "text": [
      "The total cost for 7 units of 'Laptop' is Rs.3657.5000000000005.\n",
      "The category is Electronics.\n"
     ]
    }
   ],
   "source": [
    "class InventoryItem:\n",
    "    category = 'Electronics' \n",
    "    tax_rate = 0.1  \n",
    "\n",
    "    def __init__(self, item_name, price_per_unit, quantity, discount_rate):\n",
    "        self.item_name = item_name\n",
    "        self.price_per_unit = price_per_unit\n",
    "        self.quantity = quantity\n",
    "        self.discount_rate = discount_rate\n",
    "\n",
    "    def calculate_total_cost(self):\n",
    "        total_cost = (self.price_per_unit * self.quantity) * (1 - self.discount_rate) * (1 + self.tax_rate)\n",
    "        print(f\"The total cost for {self.quantity} units of '{self.item_name}' is Rs.{total_cost}.\")\n",
    "\n",
    "    def get_category(cls):\n",
    "        print(f\"The category is {cls.category}.\")\n",
    "\n",
    "item_instance = InventoryItem(item_name=\"Laptop\", price_per_unit=500, quantity=7, discount_rate=0.05)\n",
    "\n",
    "item_instance.calculate_total_cost()\n",
    "item_instance.get_category()"
   ]
  },
  {
   "cell_type": "markdown",
   "id": "63384341",
   "metadata": {},
   "source": [
    "### 10.Design a class called OnlineOrder with class-level variable shipping_feeset to 10. The class should have a constructor that sets the customer_name, total_amount, and payment_method instance variables. Implement a method called process_order that calculates and prints the final amount after adding the shipping fee. Also, provide a method called get_shipping_fee that prints the class-level variable shipping_fee. Create an instance of the class and test the methods."
   ]
  },
  {
   "cell_type": "code",
   "execution_count": 29,
   "id": "a91172b0",
   "metadata": {},
   "outputs": [
    {
     "name": "stdout",
     "output_type": "stream",
     "text": [
      "The final amount for Amogh Pathak's order using Paytm is Rs.60.\n",
      "The shipping fee is Rs.10.\n"
     ]
    }
   ],
   "source": [
    "class OnlineOrder:\n",
    "    shipping_fee = 10  \n",
    "\n",
    "    def __init__(self, customer_name, total_amount, payment_method):\n",
    "        self.customer_name = customer_name\n",
    "        self.total_amount = total_amount\n",
    "        self.payment_method = payment_method\n",
    "\n",
    "    def process_order(self):\n",
    "        final_amount = self.total_amount + self.shipping_fee\n",
    "        print(f\"The final amount for {self.customer_name}'s order using {self.payment_method} is Rs.{final_amount}.\")\n",
    "\n",
    "    def get_shipping_fee(cls):\n",
    "        print(f\"The shipping fee is Rs.{cls.shipping_fee}.\")\n",
    "\n",
    "order_instance = OnlineOrder(customer_name=\"Amogh Pathak\", total_amount=50, payment_method=\"Paytm\")\n",
    "\n",
    "order_instance.process_order()\n",
    "order_instance.get_shipping_fee()\n"
   ]
  },
  {
   "cell_type": "code",
   "execution_count": null,
   "id": "93b52266",
   "metadata": {},
   "outputs": [],
   "source": []
  },
  {
   "cell_type": "code",
   "execution_count": null,
   "id": "e1e138df",
   "metadata": {},
   "outputs": [],
   "source": []
  },
  {
   "cell_type": "code",
   "execution_count": null,
   "id": "df96603b",
   "metadata": {},
   "outputs": [],
   "source": []
  },
  {
   "cell_type": "code",
   "execution_count": null,
   "id": "cf03a721",
   "metadata": {},
   "outputs": [],
   "source": []
  },
  {
   "cell_type": "code",
   "execution_count": null,
   "id": "d3f0a5f7",
   "metadata": {},
   "outputs": [],
   "source": []
  },
  {
   "cell_type": "code",
   "execution_count": null,
   "id": "825f2a26",
   "metadata": {},
   "outputs": [],
   "source": []
  },
  {
   "cell_type": "code",
   "execution_count": null,
   "id": "cf7ef255",
   "metadata": {},
   "outputs": [],
   "source": []
  },
  {
   "cell_type": "code",
   "execution_count": null,
   "id": "a814908d",
   "metadata": {},
   "outputs": [],
   "source": []
  }
 ],
 "metadata": {
  "kernelspec": {
   "display_name": "Python 3 (ipykernel)",
   "language": "python",
   "name": "python3"
  },
  "language_info": {
   "codemirror_mode": {
    "name": "ipython",
    "version": 3
   },
   "file_extension": ".py",
   "mimetype": "text/x-python",
   "name": "python",
   "nbconvert_exporter": "python",
   "pygments_lexer": "ipython3",
   "version": "3.11.5"
  }
 },
 "nbformat": 4,
 "nbformat_minor": 5
}
